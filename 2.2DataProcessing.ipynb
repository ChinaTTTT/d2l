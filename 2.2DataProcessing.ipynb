{
 "cells": [
  {
   "cell_type": "code",
   "execution_count": 1,
   "metadata": {},
   "outputs": [
    {
     "name": "stdout",
     "output_type": "stream",
     "text": [
      "   NumRooms  Rooftype   Price\n",
      "0       1.0       NaN  127500\n",
      "1       NaN       NaN  106000\n",
      "2       4.0     Slate  178100\n"
     ]
    }
   ],
   "source": [
    "import os\n",
    "import pandas as pd\n",
    "\n",
    "\n",
    "os.makedirs(os.path.join('..','data'), exist_ok=True)\n",
    "data_file = os.path.join(\"..\",'data', 'house_tiny.csv')#创建文件路径\n",
    "with open(data_file, 'w') as f:\n",
    "    f.write('''NumRooms, Rooftype, Price\n",
    "1,NA, 127500\n",
    "NA,NA, 106000\n",
    "4, Slate, 178100\n",
    "            ''')\n",
    "data = pd.read_csv(data_file)\n",
    "print(data)\n"
   ]
  },
  {
   "cell_type": "code",
   "execution_count": 2,
   "metadata": {},
   "outputs": [
    {
     "name": "stdout",
     "output_type": "stream",
     "text": [
      "   NumRooms   Rooftype_ Slate   Rooftype_nan\n",
      "0       1.0             False           True\n",
      "1       NaN             False           True\n",
      "2       4.0              True          False\n"
     ]
    }
   ],
   "source": [
    "inputs = data.iloc[:, 0:2]#取前两列\n",
    "targets = data.iloc[:,2]#取第三列\n",
    "inputs, targets = data.iloc[:, 0:2], data.iloc[:, 2]\n",
    "inputs = pd.get_dummies(inputs, dummy_na=True)#对inputs进行one-hot编码 是对有字符串的列进行编码\n",
    "print(inputs)\n"
   ]
  },
  {
   "cell_type": "code",
   "execution_count": 3,
   "metadata": {},
   "outputs": [
    {
     "name": "stdout",
     "output_type": "stream",
     "text": [
      "   NumRooms   Rooftype_ Slate   Rooftype_nan\n",
      "0       1.0             False           True\n",
      "1       2.5             False           True\n",
      "2       4.0              True          False\n"
     ]
    }
   ],
   "source": [
    "inputs = inputs.fillna(inputs.mean())#填充缺失值\n",
    "print(inputs)"
   ]
  },
  {
   "cell_type": "code",
   "execution_count": 4,
   "metadata": {},
   "outputs": [
    {
     "data": {
      "text/plain": [
       "(tensor([[1.0000, 0.0000, 1.0000],\n",
       "         [2.5000, 0.0000, 1.0000],\n",
       "         [4.0000, 1.0000, 0.0000]], dtype=torch.float64),\n",
       " tensor([127500., 106000., 178100.], dtype=torch.float64))"
      ]
     },
     "execution_count": 4,
     "metadata": {},
     "output_type": "execute_result"
    }
   ],
   "source": [
    "import torch\n",
    "\n",
    "X = torch.tensor(inputs.to_numpy(dtype='float'))\n",
    "y = torch.tensor(targets.to_numpy(dtype='float'))\n",
    "\n",
    "X,y"
   ]
  },
  {
   "cell_type": "code",
   "execution_count": null,
   "metadata": {},
   "outputs": [],
   "source": []
  }
 ],
 "metadata": {
  "kernelspec": {
   "display_name": ".venv",
   "language": "python",
   "name": "python3"
  },
  "language_info": {
   "codemirror_mode": {
    "name": "ipython",
    "version": 3
   },
   "file_extension": ".py",
   "mimetype": "text/x-python",
   "name": "python",
   "nbconvert_exporter": "python",
   "pygments_lexer": "ipython3",
   "version": "3.11.9"
  }
 },
 "nbformat": 4,
 "nbformat_minor": 2
}
