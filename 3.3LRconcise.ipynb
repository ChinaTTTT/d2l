{
 "cells": [
  {
   "cell_type": "code",
   "execution_count": 65,
   "metadata": {},
   "outputs": [],
   "source": [
    "import numpy as np\n",
    "import torch\n",
    "from torch.utils import data #data模块提供了有关数据处理的工具\n",
    "#data.dataset是一个表示数据集的抽象类，用户可以自定义数据集类继承data.dataset，并实现__getitem__和__len__方法\n",
    "#data.DataLoader是一个提供小批量数据迭代的迭代器\n",
    "\n",
    "from d2l import torch as d2l\n",
    "\n",
    "true_w = torch.tensor([2, -3.4])\n",
    "true_b = 4.3\n",
    "#生成数据\n",
    "features, labels  =d2l.synthetic_data(true_w, true_b, 1000)"
   ]
  },
  {
   "cell_type": "code",
   "execution_count": 66,
   "metadata": {},
   "outputs": [
    {
     "data": {
      "text/plain": [
       "[tensor([[ 1.7088, -0.0999],\n",
       "         [ 0.3427,  0.3803],\n",
       "         [-0.5888,  1.1328],\n",
       "         [-2.1487,  0.9478],\n",
       "         [-1.3482, -0.8360],\n",
       "         [-0.0200, -2.4372],\n",
       "         [-0.5007, -1.6993],\n",
       "         [ 0.0747,  0.9473],\n",
       "         [ 0.0038, -0.0403],\n",
       "         [-0.2848, -0.3506]]),\n",
       " tensor([[ 8.0904],\n",
       "         [ 3.7040],\n",
       "         [-0.7322],\n",
       "         [-3.2200],\n",
       "         [ 4.4503],\n",
       "         [12.5523],\n",
       "         [ 9.0893],\n",
       "         [ 1.2238],\n",
       "         [ 4.4364],\n",
       "         [ 4.9306]])]"
      ]
     },
     "execution_count": 66,
     "metadata": {},
     "output_type": "execute_result"
    }
   ],
   "source": [
    "#读取数据\n",
    "def load_array(data_arrays, batch_size, is_train = True):\n",
    "    dataset = data.TensorDataset(*data_arrays)#*data_arrays表示传入的是一个列表，*解包， **解包字典\n",
    "    return data.DataLoader(dataset, batch_size, shuffle=is_train)#数据集，batch量，要不要洗\n",
    "\n",
    "batch_size = 10\n",
    "data_iter = load_array([features,labels],batch_size)#原来是元组,[]和()都可\n",
    "\n",
    "next(iter(data_iter))\n"
   ]
  },
  {
   "cell_type": "code",
   "execution_count": 69,
   "metadata": {},
   "outputs": [],
   "source": [
    "from torch import nn\n",
    "net = nn.Sequential(nn.Linear(2,1))\n",
    "net[0].weight.data.normal_(0, 0.01)\n",
    "net[0].bias.data.fill_(0)\n",
    "loss = nn.MSELoss()\n",
    "trainer = torch.optim.SGD(net.parameters(), lr=0.01)\n",
    "\n"
   ]
  },
  {
   "cell_type": "code",
   "execution_count": 76,
   "metadata": {},
   "outputs": [
    {
     "name": "stdout",
     "output_type": "stream",
     "text": [
      "epoch1, loss 370.080292\n",
      "epoch2, loss 1493.408691\n",
      "epoch3, loss 1561.368408\n"
     ]
    }
   ],
   "source": [
    "num_epochs =3\n",
    "for epoch in range(num_epochs):\n",
    "    for X, y in data_iter:   #dataiter已经是迭代器了\n",
    "        l = loss(net(X) ,y)#net(X)是预测值,y是真实值,计算损失   \n",
    "        trainer.zero_grad#梯度清零,否则梯度会累加\n",
    "        l.backward()#反向传播\n",
    "        trainer.step()#更新参数\n",
    "    l = loss(net(features), labels)#计算整个数据集的损失\n",
    "    print(f'epoch{epoch + 1}, loss {l :f}')#输出损失\n"
   ]
  },
  {
   "cell_type": "code",
   "execution_count": 57,
   "metadata": {},
   "outputs": [
    {
     "name": "stdout",
     "output_type": "stream",
     "text": [
      "w的估计误差： tensor([-10681963.,   9183251.])\n",
      "b的估计误差： tensor([681940.3750])\n"
     ]
    }
   ],
   "source": [
    "w = net[0].weight.data\n",
    "print('w的估计误差：', true_w - w.reshape(true_w.shape))\n",
    "b = net[0].bias.data\n",
    "print('b的估计误差：', true_b - b)\n"
   ]
  },
  {
   "cell_type": "markdown",
   "metadata": {},
   "source": [
    "问题是为什么loss越迭代越大？？？"
   ]
  }
 ],
 "metadata": {
  "kernelspec": {
   "display_name": "py311",
   "language": "python",
   "name": "python3"
  },
  "language_info": {
   "codemirror_mode": {
    "name": "ipython",
    "version": 3
   },
   "file_extension": ".py",
   "mimetype": "text/x-python",
   "name": "python",
   "nbconvert_exporter": "python",
   "pygments_lexer": "ipython3",
   "version": "3.11.9"
  }
 },
 "nbformat": 4,
 "nbformat_minor": 2
}
